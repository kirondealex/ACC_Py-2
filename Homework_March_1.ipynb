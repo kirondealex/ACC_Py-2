{
  "nbformat": 4,
  "nbformat_minor": 0,
  "metadata": {
    "colab": {
      "provenance": [],
      "authorship_tag": "ABX9TyN5s+yY747ZRgFQm2+pBEH9",
      "include_colab_link": true
    },
    "kernelspec": {
      "name": "python3",
      "display_name": "Python 3"
    },
    "language_info": {
      "name": "python"
    }
  },
  "cells": [
    {
      "cell_type": "markdown",
      "metadata": {
        "id": "view-in-github",
        "colab_type": "text"
      },
      "source": [
        "<a href=\"https://colab.research.google.com/github/kirondealex/ACC_Py-2/blob/main/Homework_March_1.ipynb\" target=\"_parent\"><img src=\"https://colab.research.google.com/assets/colab-badge.svg\" alt=\"Open In Colab\"/></a>"
      ]
    },
    {
      "cell_type": "code",
      "execution_count": null,
      "metadata": {
        "colab": {
          "base_uri": "https://localhost:8080/"
        },
        "id": "3jAwWECUvaPT",
        "outputId": "55b58db5-d2cd-4850-8726-3b8bcca67349"
      },
      "outputs": [
        {
          "output_type": "stream",
          "name": "stdout",
          "text": [
            "inputstring:  2568uvwx\n",
            "reverse_string:  xwvu8652\n"
          ]
        }
      ],
      "source": [
        " # Write a python program to reverse a string.\n",
        "input_string = \"2568uvwx\"\n",
        "print(\"inputstring: \",input_string)\n",
        "print(\"reverse_string: \",input_string[::-1])"
      ]
    },
    {
      "cell_type": "code",
      "source": [
        "# Write a python function that accepts a string and counts the number of upper and lower-case letters\n",
        "text = input(\"Enter a string: \")\n",
        "result = count_case_letters(text)\n",
        "\n",
        "print(f\"Uppercase letters: {result['uppercase']}\")\n",
        "print(f\"Lowercase letters: {result['lowercase']}\")\n"
      ],
      "metadata": {
        "colab": {
          "base_uri": "https://localhost:8080/"
        },
        "id": "GPCD204Zx2Jv",
        "outputId": "3ffa4e37-9ec4-431f-c694-e0ab2684d288"
      },
      "execution_count": null,
      "outputs": [
        {
          "output_type": "stream",
          "name": "stdout",
          "text": [
            "Enter a string: I Love Football So Much\n",
            "Uppercase letters: 5\n",
            "Lowercase letters: 14\n"
          ]
        }
      ]
    },
    {
      "cell_type": "code",
      "source": [
        "# Write a Python program to print the even numbers in a list.\n",
        "def print_even_numbers(lst):\n",
        "    even_numbers = [num for num in lst if num % 2 == 0]\n",
        "    print(\"Even numbers in the list:\", even_numbers)\n",
        "\n",
        "numbers = [1, 2, 3, 4, 5, 6, 7, 8, 9, 10]\n",
        "print_even_numbers(numbers)\n"
      ],
      "metadata": {
        "colab": {
          "base_uri": "https://localhost:8080/"
        },
        "id": "-KjO8hjJLUAe",
        "outputId": "3dd7dc2b-84c0-4aa4-e0ae-2278b036d7eb"
      },
      "execution_count": null,
      "outputs": [
        {
          "output_type": "stream",
          "name": "stdout",
          "text": [
            "Even numbers in the list: [2, 4, 6, 8, 10]\n"
          ]
        }
      ]
    },
    {
      "cell_type": "code",
      "source": [
        "def print_odd_numbers(lst):\n",
        "    odd_numbers = [num for num in lst if num % 2 != 0]\n",
        "    print(\"Odd numbers in the list:\", odd_numbers)\n",
        "\n",
        "numbers = [1, 2, 3, 4, 5, 6, 7, 8, 9, 10]\n",
        "print_odd_numbers(numbers)\n"
      ],
      "metadata": {
        "colab": {
          "base_uri": "https://localhost:8080/"
        },
        "id": "xOEmli04L7eQ",
        "outputId": "8741dee6-0910-4dca-b9e8-6ea8851e3a17"
      },
      "execution_count": null,
      "outputs": [
        {
          "output_type": "stream",
          "name": "stdout",
          "text": [
            "Odd numbers in the list: [1, 3, 5, 7, 9]\n"
          ]
        }
      ]
    }
  ]
}